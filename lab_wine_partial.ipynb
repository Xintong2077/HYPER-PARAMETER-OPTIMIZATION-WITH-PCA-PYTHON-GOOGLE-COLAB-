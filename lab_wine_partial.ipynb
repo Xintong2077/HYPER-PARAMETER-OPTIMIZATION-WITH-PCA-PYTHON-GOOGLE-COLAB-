{
 "cells": [
  {
   "cell_type": "markdown",
   "metadata": {
    "colab_type": "text",
    "id": "ml-I2xfnuEW-"
   },
   "source": [
    "# Lab:  Hyper-Parameter Optimization with PCA\n",
    "\n",
    "PCA is often applied as a pre-processing step with classifiers.  When using PCA in this manner, one must select the number of PC components to use along with parameters in classifier.  In this lab, we will demonstrate how to performing this *hyper-parameter optimization*.  In doing the lab, you will learn to:\n",
    "\n",
    "* Combine PCA with data scaling.\n",
    "* Compute and visualize PC components\n",
    "* Select the number of PCs with K-fold cross validation\n",
    "* Implement the multi-stage classifier pipeline in sklearn\n",
    "* Perform automatic parameter search using `GridSearchCV` in combination with a pipeline.\n",
    "\n",
    "We first download the basic packages."
   ]
  },
  {
   "cell_type": "code",
   "execution_count": 0,
   "metadata": {
    "colab": {},
    "colab_type": "code",
    "id": "wv9xrvCpuEXO"
   },
   "outputs": [],
   "source": [
    "import numpy as np\n",
    "import matplotlib\n",
    "import matplotlib.pyplot as plt"
   ]
  },
  {
   "cell_type": "markdown",
   "metadata": {
    "colab_type": "text",
    "id": "Bcf00GIJuEXg"
   },
   "source": [
    "## Downloading the Data\n",
    "\n",
    "We will use a very simple `wine` dataset, commonly used in teaching machine learning class.  The problem is to classify the type of red wine from features of the wine such as the `alchohol` and other chemical components.  There are three possible wine types."
   ]
  },
  {
   "cell_type": "code",
   "execution_count": 340,
   "metadata": {
    "colab": {
     "base_uri": "https://localhost:8080/",
     "height": 73
    },
    "colab_type": "code",
    "id": "-befDnQkuEXi",
    "outputId": "24badac5-7449-471c-825f-19df45721347"
   },
   "outputs": [
    {
     "name": "stdout",
     "output_type": "stream",
     "text": [
      "['alcohol', 'malic_acid', 'ash', 'alcalinity_of_ash', 'magnesium', 'total_phenols', 'flavanoids', 'nonflavanoid_phenols', 'proanthocyanins', 'color_intensity', 'hue', 'od280/od315_of_diluted_wines', 'proline']\n",
      "['class_0' 'class_1' 'class_2']\n"
     ]
    }
   ],
   "source": [
    "from sklearn.datasets import load_wine\n",
    "from sklearn.model_selection import KFold\n",
    "data = load_wine()\n",
    "\n",
    "# TODO print the features names in data.feature_names and data.target_names\n",
    "print(data.feature_names)\n",
    "print(data.target_names)"
   ]
  },
  {
   "cell_type": "markdown",
   "metadata": {
    "colab_type": "text",
    "id": "ugnO5lOcuEXw"
   },
   "source": [
    "Get the data matrix `X` from `data.data` and the target values `y` from `data.target`.  Print the number of samples, number of features and number of classes."
   ]
  },
  {
   "cell_type": "code",
   "execution_count": 341,
   "metadata": {
    "colab": {
     "base_uri": "https://localhost:8080/",
     "height": 72
    },
    "colab_type": "code",
    "id": "hZ7GgqFXuEX0",
    "outputId": "9f7865a3-db0a-42f9-be15-a81568e8bfb2"
   },
   "outputs": [
    {
     "name": "stdout",
     "output_type": "stream",
     "text": [
      "# of samples = 178\n",
      "# of features = 13\n",
      "# of classes = 3\n"
     ]
    }
   ],
   "source": [
    "# TODO\n",
    "X = data.data\n",
    "y = data.target\n",
    "\n",
    "print('# of samples =',X.shape[0])\n",
    "print('# of features =',X.shape[1])\n",
    "print('# of classes =',np.max(y)+1)"
   ]
  },
  {
   "cell_type": "markdown",
   "metadata": {
    "colab_type": "text",
    "id": "N2VI-hJnuEYH"
   },
   "source": [
    "## Perform PCA for Visualization\n",
    "\n",
    "Before performing PCA, you should scale the data matrix to remove the mean and normalize the variance of the different components.  For this purpose, create a `StandardScaling` object `scaling`.  Then `fit` the scaling with the entire data `X`.  Transform the data and let `Xs` be the scaled data."
   ]
  },
  {
   "cell_type": "code",
   "execution_count": 342,
   "metadata": {
    "colab": {
     "base_uri": "https://localhost:8080/",
     "height": 126
    },
    "colab_type": "code",
    "id": "Uvsi55URuEYM",
    "outputId": "8b50a2e0-b423-4c0d-e886-0f840ec4e10d"
   },
   "outputs": [
    {
     "name": "stdout",
     "output_type": "stream",
     "text": [
      "(178, 13)\n",
      "[0 0 0 0 0 0 0 0 0 0 0 0 0 0 0 0 0 0 0 0 0 0 0 0 0 0 0 0 0 0 0 0 0 0 0 0 0\n",
      " 0 0 0 0 0 0 0 0 0 0 0 0 0 0 0 0 0 0 0 0 0 0 1 1 1 1 1 1 1 1 1 1 1 1 1 1 1\n",
      " 1 1 1 1 1 1 1 1 1 1 1 1 1 1 1 1 1 1 1 1 1 1 1 1 1 1 1 1 1 1 1 1 1 1 1 1 1\n",
      " 1 1 1 1 1 1 1 1 1 1 1 1 1 1 1 1 1 1 1 2 2 2 2 2 2 2 2 2 2 2 2 2 2 2 2 2 2\n",
      " 2 2 2 2 2 2 2 2 2 2 2 2 2 2 2 2 2 2 2 2 2 2 2 2 2 2 2 2 2 2]\n"
     ]
    }
   ],
   "source": [
    "from sklearn.preprocessing import StandardScaler\n",
    "\n",
    "# TODO\n",
    "scaling = StandardScaler()\n",
    "Xs = scaling.fit_transform(X)\n",
    "print(Xs.shape)\n",
    "print(y)"
   ]
  },
  {
   "cell_type": "markdown",
   "metadata": {
    "colab_type": "text",
    "id": "NDhotEaIuEYS"
   },
   "source": [
    "Now, fit a PCA on the scaled data matrix `Xs`.  You can use the `sklearn` `PCA` method.  In order that we can visualize the results set `n_components=2`.  Select `svd_solver='randomized'` and `whiten=True`.  Use the the `pca.transform` method to find, `Z`, the coefficients of `Xs` in the PCA basis."
   ]
  },
  {
   "cell_type": "code",
   "execution_count": 343,
   "metadata": {
    "colab": {
     "base_uri": "https://localhost:8080/",
     "height": 3251
    },
    "colab_type": "code",
    "id": "_s0z7T5nuEYV",
    "outputId": "044d6ae0-654e-45fe-da30-30a62ea9ec1d"
   },
   "outputs": [
    {
     "name": "stdout",
     "output_type": "stream",
     "text": [
      "[[ 1.52465094 -0.91090945]\n",
      " [ 1.01565144  0.21039041]\n",
      " [ 1.15690036 -0.65071682]\n",
      " [ 1.72705576 -1.73943205]\n",
      " [ 0.46377716 -0.54891418]\n",
      " [ 1.40214709 -1.3393593 ]\n",
      " [ 1.12580265 -0.74139925]\n",
      " [ 0.94668624 -1.0153499 ]\n",
      " [ 1.15420394 -0.57935648]\n",
      " [ 1.26579355 -0.49818141]\n",
      " [ 1.59957262 -0.82184848]\n",
      " [ 0.80662848 -0.38619343]\n",
      " [ 0.97152078 -0.42641025]\n",
      " [ 1.58965274 -0.71349359]\n",
      " [ 1.98250951 -1.32268329]\n",
      " [ 1.05965372 -1.04916749]\n",
      " [ 0.99840893 -1.46866583]\n",
      " [ 0.87292303 -1.02948917]\n",
      " [ 1.62818709 -1.58922219]\n",
      " [ 0.95821752 -0.6696402 ]\n",
      " [ 1.43623188 -0.49657816]\n",
      " [ 0.4994768  -0.1525544 ]\n",
      " [ 1.1653971   0.05795679]\n",
      " [ 0.75617167  0.32580217]\n",
      " [ 0.80976487  0.2001395 ]\n",
      " [ 0.45512163 -0.59361616]\n",
      " [ 0.81606333 -0.43301667]\n",
      " [ 0.56790227  0.05667353]\n",
      " [ 1.00597119 -0.43515883]\n",
      " [ 1.03709289 -0.12082375]\n",
      " [ 1.14930636 -0.78303875]\n",
      " [ 1.2307579  -0.92883838]\n",
      " [ 0.74862865 -0.03325956]\n",
      " [ 0.87463291 -1.03055672]\n",
      " [ 0.64833034 -0.44043739]\n",
      " [ 0.87515482 -0.11151494]\n",
      " [ 0.63659636 -0.41564032]\n",
      " [ 0.51585864 -0.07200992]\n",
      " [ 0.6905319   0.48555669]\n",
      " [ 1.16290425 -1.13779983]\n",
      " [ 1.18970111 -0.49198352]\n",
      " [ 0.3072892  -0.10725523]\n",
      " [ 1.41159497 -0.72945253]\n",
      " [ 0.21246926 -0.20871762]\n",
      " [ 0.96595384  0.0448108 ]\n",
      " [ 0.52227524 -1.12145878]\n",
      " [ 1.25336962 -0.75180194]\n",
      " [ 1.29691913 -0.40782698]\n",
      " [ 0.92389243 -0.78694856]\n",
      " [ 1.24458525 -1.10559393]\n",
      " [ 1.47783997 -0.10538173]\n",
      " [ 1.31421262 -0.47031457]\n",
      " [ 1.61146353 -1.01772948]\n",
      " [ 1.02269675 -1.18334079]\n",
      " [ 0.98693184 -0.6416297 ]\n",
      " [ 1.13510653 -0.83868206]\n",
      " [ 1.26022668 -0.90654639]\n",
      " [ 0.99922976 -0.76496904]\n",
      " [ 1.44311682 -1.09272774]\n",
      " [-0.4268525   1.93954963]\n",
      " [-0.70905049  0.87177171]\n",
      " [-0.84409112  0.52376861]\n",
      " [ 0.01406941  0.796892  ]\n",
      " [ 0.94246853  1.21480821]\n",
      " [-0.28025936  1.20409677]\n",
      " [ 0.41381861  0.48207287]\n",
      " [ 1.03359848  1.18928818]\n",
      " [ 0.08429835  1.53167124]\n",
      " [-0.37363191  0.13915723]\n",
      " [ 0.90815735  0.88555377]\n",
      " [-0.72271963  0.55847624]\n",
      " [ 0.76200663  0.60374135]\n",
      " [-0.33344069  0.67122255]\n",
      " [ 1.17780993 -0.16420053]\n",
      " [ 0.84239849  0.81272642]\n",
      " [-0.39900079  1.54237093]\n",
      " [ 0.17008899  1.3592414 ]\n",
      " [-0.66993012  0.87297595]\n",
      " [ 0.58054669  0.48645119]\n",
      " [ 0.17290959  0.6481245 ]\n",
      " [ 0.35030713  2.12985647]\n",
      " [ 0.47557696  0.91548277]\n",
      " [-0.22748598  1.50270401]\n",
      " [-1.16712229  0.05518196]\n",
      " [ 0.38398171  0.92997233]\n",
      " [ 0.36218564  1.27891991]\n",
      " [-0.37088629  1.40967776]\n",
      " [-0.2565222   1.49749265]\n",
      " [-0.51259657  1.13732348]\n",
      " [-0.25545583  1.67706328]\n",
      " [-0.62024227  1.33658292]\n",
      " [-0.71916463  1.16885577]\n",
      " [-0.8883612   0.984133  ]\n",
      " [ 0.34322896  1.45959523]\n",
      " [ 0.44012508  1.40317649]\n",
      " [ 1.16936926 -0.10682181]\n",
      " [-0.25004526  0.23281418]\n",
      " [ 0.4739551   1.61902443]\n",
      " [ 1.03516242  0.90414374]\n",
      " [ 0.64825104  1.36699379]\n",
      " [ 0.3666975   1.49999384]\n",
      " [-0.25260989  1.44709842]\n",
      " [-0.07408868  0.73485711]\n",
      " [-0.30329592  1.69121238]\n",
      " [ 0.18035829  1.32442254]\n",
      " [-0.81478608  1.08370961]\n",
      " [-0.16836654  1.36898894]\n",
      " [-0.74499415  0.85545257]\n",
      " [ 0.03794022  1.45536902]\n",
      " [ 0.72550478  0.92262919]\n",
      " [ 0.65301024  0.89497138]\n",
      " [-0.12811466  1.2183015 ]\n",
      " [-0.5990324   0.48160642]\n",
      " [-0.21010775  1.43213407]\n",
      " [-0.22716838  1.22365093]\n",
      " [ 0.22160097  2.44332218]\n",
      " [-0.11624849  1.78052682]\n",
      " [-0.04929062  1.21726276]\n",
      " [-1.11841231  0.79332963]\n",
      " [-0.25332599  1.40231401]\n",
      " [ 0.33999095  0.88913412]\n",
      " [ 0.61428316 -0.15987025]\n",
      " [-0.54108581  0.41900196]\n",
      " [-0.21252712  0.39017609]\n",
      " [ 0.44978701  0.91223957]\n",
      " [-0.0445017   1.33153229]\n",
      " [ 0.01769185  0.79940115]\n",
      " [-0.73418515  0.7624094 ]\n",
      " [-0.2204474   1.22352203]\n",
      " [-0.82413343  0.72589916]\n",
      " [-0.61004486 -0.10752551]\n",
      " [-1.09611232 -0.23638348]\n",
      " [-1.35005876 -0.16651216]\n",
      " [-0.98685062 -0.23239038]\n",
      " [-1.08938655  0.29005643]\n",
      " [-1.40839309 -0.22302418]\n",
      " [-1.80000187 -0.09755059]\n",
      " [-1.80952171 -0.41630128]\n",
      " [-1.4223833  -0.22014022]\n",
      " [-1.09150207 -0.18425678]\n",
      " [-1.27737054 -0.18099072]\n",
      " [-1.05109126 -0.2350743 ]\n",
      " [-1.37244223 -0.30872517]\n",
      " [-1.09183446 -0.30438086]\n",
      " [-1.0158356  -0.73206105]\n",
      " [-1.20695094 -0.35538736]\n",
      " [-1.96773297 -0.40998035]\n",
      " [-1.64687606 -0.80314996]\n",
      " [-1.29035691 -0.99109878]\n",
      " [-1.33292145 -1.28802636]\n",
      " [-1.06680122 -1.48700483]\n",
      " [-1.17211161 -1.29069331]\n",
      " [-0.83319276 -0.96403402]\n",
      " [-1.26878905 -1.34979154]\n",
      " [-1.25821905 -0.25866221]\n",
      " [-1.65709364 -1.13740994]\n",
      " [-1.32840125 -1.21492567]\n",
      " [-1.55931338 -0.8278708 ]\n",
      " [-0.48183044 -2.21822747]\n",
      " [-0.74004784 -1.51872967]\n",
      " [-1.444841   -0.46582286]\n",
      " [-1.02976    -0.74178746]\n",
      " [-1.30902462 -0.35089633]\n",
      " [-1.19402287 -0.4404571 ]\n",
      " [-1.35574009 -0.981491  ]\n",
      " [-1.6226926  -0.55692606]\n",
      " [-1.10604591 -1.63592853]\n",
      " [-1.34644778 -0.80425067]\n",
      " [-1.00275638 -1.31104768]\n",
      " [-1.09446985 -1.63360074]\n",
      " [-1.4763229   0.15855288]\n",
      " [-1.69067335 -0.53497854]\n",
      " [-1.13337183 -1.38441519]\n",
      " [-1.54936957 -1.3986082 ]\n",
      " [-1.1960725  -1.10891459]\n",
      " [-1.23095483 -1.74228897]\n",
      " [-1.097269   -1.44976024]\n",
      " [-1.47500865 -1.74735037]]\n"
     ]
    }
   ],
   "source": [
    "from sklearn.decomposition import PCA\n",
    "\n",
    "# TODO\n",
    "# Construct the PCA object\n",
    "ncomp = 2\n",
    "pca = PCA(n_components=ncomp, svd_solver='randomized', whiten=True)\n",
    "pca.fit(Xs)\n",
    "Z = pca.transform(Xs)\n",
    "print(Z)"
   ]
  },
  {
   "cell_type": "markdown",
   "metadata": {
    "colab_type": "text",
    "id": "xfN5hxUTuEYe"
   },
   "source": [
    "In the transformed basis, each data sample is represented by a two dimensional vector, `Z[i,0], Z[i,1]`.  Plot a scatter plot of the transformed data.  Use different marker colors for the different classes.  If you did everything, you should see that the classes are quite well separated with even two PCs."
   ]
  },
  {
   "cell_type": "code",
   "execution_count": 344,
   "metadata": {
    "colab": {
     "base_uri": "https://localhost:8080/",
     "height": 269
    },
    "colab_type": "code",
    "id": "tUkoSSVKuEYi",
    "outputId": "039c8602-ba3b-490d-f1ed-4e25e9e0a84a"
   },
   "outputs": [
    {
     "data": {
      "image/png": "[encoded data removed]",
      "text/plain": [
       "<Figure size 432x288 with 1 Axes>"
      ]
     },
     "metadata": {
      "tags": []
     },
     "output_type": "display_data"
    }
   ],
   "source": [
    "# TODO\n",
    "n = len(y)\n",
    "for i in range(n):\n",
    "  if y[i] == 0:\n",
    "    plt.scatter(Z[i,0],Z[i,1],c='red')\n",
    "  if y[i] == 1:\n",
    "    plt.scatter(Z[i,0],Z[i,1],c='blue')\n",
    "  if y[i] == 2:\n",
    "    plt.scatter(Z[i,0],Z[i,1],c='green')"
   ]
  },
  {
   "cell_type": "markdown",
   "metadata": {
    "colab_type": "text",
    "id": "FcshIEkuuEYx"
   },
   "source": [
    "Now, refit the scaled data `Xs` using `n_components=nfeatures` where `nfeatures` is the number of features.  This is the maximum number of PCs.  Get the singular values from `pca.singular_values_` and plot the portion of variation as a function of the number of PCs.   The PoV for using `n` PCs is:\n",
    "\n",
    "    PoV[n]  = \\sum_{i=0}^{n-1}  s[i]**2 / \\sum_{i=0}^{d-1}  s[i]**2\n",
    "    \n",
    "where `s[i]` is the `i`-th singular value and `d` is the number of features.  You should see that the 4 PCs contains more than 70% of the variance."
   ]
  },
  {
   "cell_type": "code",
   "execution_count": 345,
   "metadata": {
    "colab": {
     "base_uri": "https://localhost:8080/",
     "height": 306
    },
    "colab_type": "code",
    "id": "RXXrWgNruEY1",
    "outputId": "a97fccad-014d-4e28-8529-75f057d5309e"
   },
   "outputs": [
    {
     "name": "stdout",
     "output_type": "stream",
     "text": [
      "(13,)\n"
     ]
    },
    {
     "data": {
      "image/png": "[encoded data removed]",
      "text/plain": [
       "<Figure size 432x288 with 1 Axes>"
      ]
     },
     "metadata": {
      "tags": []
     },
     "output_type": "display_data"
    }
   ],
   "source": [
    "# TODO\n",
    "nfeatures = Xs.shape[1]\n",
    "pca = PCA(n_components=nfeatures, svd_solver='randomized', whiten=True)\n",
    "pca.fit(Xs)\n",
    "s = pca.singular_values_\n",
    "print(s.shape)\n",
    "pov = np.cumsum(s**2) / np.sum(s**2)\n",
    "\n",
    "plt.plot(pov)\n",
    "plt.axis([1,nfeatures,0, 1.1])\n",
    "plt.xlabel('Number of PCs', fontsize=16)\n",
    "plt.ylabel('PoV', fontsize=16)\n",
    "plt.grid()\n",
    "plt.show()"
   ]
  },
  {
   "cell_type": "markdown",
   "metadata": {
    "colab_type": "text",
    "id": "4ZboD6sIuEZD"
   },
   "source": [
    "## Using PCA with Classification \n",
    "\n",
    "We will now use data scaling and PCA as a pre-processing step for logistic classification.  The number of PCs to use can be found with cross-validation.  Complete the code below which tries different number of PCs components to use and measures the test accuracy for each value."
   ]
  },
  {
   "cell_type": "code",
   "execution_count": 0,
   "metadata": {
    "colab": {},
    "colab_type": "code",
    "id": "zFMg4rMzuEZG"
   },
   "outputs": [],
   "source": [
    "from sklearn.preprocessing import StandardScaler\n",
    "from sklearn.linear_model import LogisticRegression\n",
    "from sklearn.model_selection import train_test_split\n",
    "nfold = 5\n",
    "\n",
    "# Create a K-fold object\n",
    "kf = KFold(n_splits=nfold)\n",
    "kf.get_n_splits(X)\n",
    "\n",
    "# Number of PCs to try\n",
    "ncomp_test = np.arange(2,12)\n",
    "num_nc = len(ncomp_test)\n",
    "\n",
    "# Accuracy:  acc[icomp,ifold]  is test accuracy when using `ncomp = ncomp_test[icomp]` in fold `ifold`.\n",
    "acc = np.zeros((num_nc,nfold))\n",
    "\n",
    "# Loop over number of components to test\n",
    "for icomp, ncomp in enumerate(ncomp_test):\n",
    "    \n",
    "    # Look over the folds\n",
    "    for ifold, I in enumerate(kf.split(X)):\n",
    "        Itr, Its = I\n",
    "\n",
    "        # TODO:  Split data into training \n",
    "        Xtr, Xts, ytr, yts = train_test_split(X, y, test_size=0.25)\n",
    "\n",
    "        # TODO:  Create a scaling object and fit the scaling on the training data\n",
    "        scaling = StandardScaler()\n",
    "        scaling.fit(Xtr)\n",
    "\n",
    "        # TODO:  Fit the PCA on the scaled training data\n",
    "        Xtrs = scaling.transform(Xtr)\n",
    "        pca = PCA(n_components=ncomp, svd_solver='randomized', whiten=True)\n",
    "        pca.fit(Xtrs)\n",
    "        Ztr = pca.transform(Xtrs)\n",
    "        \n",
    "        # TODO:  Train a classifier on the transformed training data\n",
    "        # Use a logistic regression classifier\n",
    "        logreg = LogisticRegression(multi_class='auto', solver='lbfgs')\n",
    "        logreg.fit(Ztr,ytr)\n",
    "        \n",
    "        # TODO:  Transform the test data through data scaler and PCA\n",
    "        Xtss = scaling.transform(Xts)\n",
    "        Zts = pca.transform(Xtss)\n",
    "        \n",
    "        # TODO:  Predict the labels the test data\n",
    "        yhat = logreg.predict(Zts)\n",
    "        \n",
    "        # TODO:  Measure the accuracy \n",
    "        acc[icomp, ifold] = np.mean(yhat == yts)\n"
   ]
  },
  {
   "cell_type": "code",
   "execution_count": 347,
   "metadata": {
    "colab": {
     "base_uri": "https://localhost:8080/",
     "height": 199
    },
    "colab_type": "code",
    "id": "ehbtks-OrQPd",
    "outputId": "55874947-4133-4352-a18d-208a885c2cda"
   },
   "outputs": [
    {
     "data": {
      "text/plain": [
       "array([[0.97777778, 0.93333333, 0.93333333, 0.95555556, 0.95555556],\n",
       "       [0.93333333, 0.97777778, 0.97777778, 1.        , 0.93333333],\n",
       "       [0.97777778, 0.95555556, 0.97777778, 1.        , 0.97777778],\n",
       "       [0.95555556, 0.97777778, 0.97777778, 0.97777778, 0.97777778],\n",
       "       [1.        , 1.        , 1.        , 0.95555556, 0.95555556],\n",
       "       [0.95555556, 1.        , 0.97777778, 0.93333333, 0.97777778],\n",
       "       [0.95555556, 0.97777778, 1.        , 1.        , 0.97777778],\n",
       "       [0.97777778, 1.        , 0.97777778, 0.97777778, 1.        ],\n",
       "       [0.97777778, 1.        , 0.95555556, 0.95555556, 1.        ],\n",
       "       [0.97777778, 0.95555556, 0.97777778, 0.95555556, 1.        ]])"
      ]
     },
     "execution_count": 347,
     "metadata": {
      "tags": []
     },
     "output_type": "execute_result"
    }
   ],
   "source": [
    "acc"
   ]
  },
  {
   "cell_type": "markdown",
   "metadata": {
    "colab_type": "text",
    "id": "4x8ojCqOuEZf"
   },
   "source": [
    "Use the `plt.errorbar` function to plot the mean accuracy with error bars corresponding to the standard error of the accuracy as a function of the number of components.  Find the optimal number of PCs to use according to the normal rule and one SE rule.  If you did it correctly, you should get an accuracy of around 96%."
   ]
  },
  {
   "cell_type": "code",
   "execution_count": 348,
   "metadata": {
    "colab": {
     "base_uri": "https://localhost:8080/",
     "height": 356
    },
    "colab_type": "code",
    "id": "PEXKVRCWuEZi",
    "outputId": "2eaaf6ae-b623-41e2-fcb5-0f8cf6b176e7"
   },
   "outputs": [
    {
     "data": {
      "image/png": "[encoded data removed]",
      "text/plain": [
       "<Figure size 432x288 with 1 Axes>"
      ]
     },
     "metadata": {
      "tags": []
     },
     "output_type": "display_data"
    },
    {
     "name": "stdout",
     "output_type": "stream",
     "text": [
      "Optimal order with the normal rule = 9\n",
      "Mean accuracy = 0.9866666666666667\n",
      "Optimal order with one SE rule = 6\n",
      "Mean accuracy = 0.9822222222222223\n"
     ]
    }
   ],
   "source": [
    "# TODO:\n",
    "acc_mean = np.mean(acc,1)\n",
    "acc_se = np.std(acc,1)/np.sqrt(nfold-1)\n",
    "plt.errorbar(ncomp_test, acc_mean, yerr=acc_se, fmt='-')\n",
    "plt.xlabel('Number of components')\n",
    "plt.ylabel('Mean accuracy')\n",
    "plt.show()\n",
    "\n",
    "# TODO:  Optimal order with the normal rule\n",
    "iopt = np.argmax(acc_mean)\n",
    "oopt = ncomp_test[iopt]\n",
    "print('Optimal order with the normal rule =',oopt)\n",
    "print('Mean accuracy =',acc_mean[oopt-2])\n",
    "\n",
    "# TODO:  Optimal order with one SE rule\n",
    "imax = np.argmax(acc_mean)\n",
    "acc_tgt = acc_mean[imax] - acc_se[imax]\n",
    "I = np.where(acc_mean >= acc_tgt)[0]\n",
    "iopt = np.min(I)\n",
    "oopt = ncomp_test[iopt]\n",
    "print('Optimal order with one SE rule =',oopt)\n",
    "print('Mean accuracy =',acc_mean[oopt-2])"
   ]
  },
  {
   "cell_type": "markdown",
   "metadata": {
    "colab_type": "text",
    "id": "N6-ngE5KuEZp"
   },
   "source": [
    "## Hyper-Parameter Optimization with GridCV.\n",
    "\n",
    "We will now try a more complex classifier -- a support vector classifier with a radial basis function.  When we use such a classifer, there will be a number of parameters to tune.  When the number of parameters to tune becomes large, writing a loop over multiple parameters as we did above becomes cumbersome.  The `sklearn` package has a very nice routine, `GridSearchCV` to perform this sort of parameter search.  \n",
    "\n",
    "Before, we do this we need to create an estimator `Pipeline`.  An estimator pipeline is a sequence of transformations followed by an estimator that will operate on the transformed data.  Create the following pipeline:\n",
    "\n",
    "*  Create a `StandardScaler()` object called `scaler` for the first transformation\n",
    "*  Create a `PCA()` object called `pca` for the second transformation\n",
    "*  Create a `SVC()` object called `svc` for the final SVM classifier.  Set the parameter `kernel='rbf'`.\n",
    "\n",
    "Once you have the three steps defined, you can create the pipeline with the command:\n",
    "    \n",
    "    pipe = Pipeline(steps=[('scaler', scaler), ('pca', pca), ('svc', svc)])"
   ]
  },
  {
   "cell_type": "code",
   "execution_count": 0,
   "metadata": {
    "colab": {},
    "colab_type": "code",
    "id": "kscjT0i3uEZs"
   },
   "outputs": [],
   "source": [
    "from sklearn.pipeline import Pipeline\n",
    "from sklearn.model_selection import GridSearchCV\n",
    "from sklearn.svm import SVC\n",
    "\n",
    "# TODO\n",
    "scaler = StandardScaler()\n",
    "pca = PCA()\n",
    "svc = SVC(kernel='rbf')\n",
    "pipe = Pipeline(steps=[('scaler', scaler), ('pca', pca), ('svc', svc)])"
   ]
  },
  {
   "cell_type": "markdown",
   "metadata": {
    "colab_type": "text",
    "id": "f7fP3AxouEZ2"
   },
   "source": [
    "We next define all the parameters that we want to search over.  Define the following arrays:\n",
    "\n",
    "*  `ncomp_test`:  values from 3 to 10 representing number of PCs to test\n",
    "*  `C_test`:  values of `C` in the SVC to test.  Use `10^{-2}, 10^{-1}, ... ,10^{3}` \n",
    "*  `gam_test`:  values of `gamma` in the SVC to test.  Use `10^{-3}, 10^{-2}, ... ,10^{1}` "
   ]
  },
  {
   "cell_type": "code",
   "execution_count": 350,
   "metadata": {
    "colab": {
     "base_uri": "https://localhost:8080/",
     "height": 72
    },
    "colab_type": "code",
    "id": "wH1H30FIuEZ6",
    "outputId": "8bed1cea-e897-4999-c135-0feb69797138"
   },
   "outputs": [
    {
     "name": "stdout",
     "output_type": "stream",
     "text": [
      "[ 3  4  5  6  7  8  9 10]\n",
      "[1.e-02 1.e-01 1.e+00 1.e+01 1.e+02 1.e+03]\n",
      "[1.e-03 1.e-02 1.e-01 1.e+00 1.e+01]\n"
     ]
    }
   ],
   "source": [
    "# TODO\n",
    "ncomp_test = np.arange(3,11)\n",
    "c = np.array([-2,-1,0,1,2,3],dtype=float)\n",
    "c_test = 10**c\n",
    "g = np.array([-3,-2,-1,0,1],dtype=float)\n",
    "gam_test = 10**g\n",
    "\n",
    "print(ncomp_test)\n",
    "print(c_test)\n",
    "print(gam_test)"
   ]
  },
  {
   "cell_type": "markdown",
   "metadata": {
    "colab_type": "text",
    "id": "pKdVY57QuEaJ"
   },
   "source": [
    "Next, we create a dictionary `params` of the form:\n",
    "\n",
    "    params =  {'pca__n_components': ncomp_test, 'svc__C' : c_test, ...}\n",
    "    \n",
    "Each key in the dictionary is the of the form `estimator__param` and the value is the values to be tested."
   ]
  },
  {
   "cell_type": "code",
   "execution_count": 351,
   "metadata": {
    "colab": {
     "base_uri": "https://localhost:8080/",
     "height": 72
    },
    "colab_type": "code",
    "id": "A8QN_837uEaL",
    "outputId": "18286b5b-8104-4106-cdb8-c69e9b61b836"
   },
   "outputs": [
    {
     "data": {
      "text/plain": [
       "{'pca__n_components': array([ 3,  4,  5,  6,  7,  8,  9, 10]),\n",
       " 'svc__C': array([1.e-02, 1.e-01, 1.e+00, 1.e+01, 1.e+02, 1.e+03]),\n",
       " 'svc__gamma': array([1.e-03, 1.e-02, 1.e-01, 1.e+00, 1.e+01])}"
      ]
     },
     "execution_count": 351,
     "metadata": {
      "tags": []
     },
     "output_type": "execute_result"
    }
   ],
   "source": [
    "# TODO\n",
    "params = {'pca__n_components': ncomp_test, 'svc__C' : c_test, 'svc__gamma' : gam_test}\n",
    "params"
   ]
  },
  {
   "cell_type": "markdown",
   "metadata": {
    "colab_type": "text",
    "id": "IUL7yVWguEaX"
   },
   "source": [
    "Finally, an object `estimator = GridSearchCV(...)` from  `pipe` and `params`.  Set `cv=5`, `train_score=True` and `iid=False`.  Fit the estimator from the data `X,y`.  Then the estimator will perform the cross-validation over all the parameters.  This may take a minute since we are search over so many parameters."
   ]
  },
  {
   "cell_type": "code",
   "execution_count": 352,
   "metadata": {
    "colab": {
     "base_uri": "https://localhost:8080/",
     "height": 237
    },
    "colab_type": "code",
    "id": "aKM9yf2xuEaZ",
    "outputId": "d3285b55-0c2e-40b2-db1a-37608b604394"
   },
   "outputs": [
    {
     "data": {
      "text/plain": [
       "GridSearchCV(cv=5, error_score='raise-deprecating',\n",
       "       estimator=Pipeline(memory=None,\n",
       "     steps=[('scaler', StandardScaler(copy=True, with_mean=True, with_std=True)), ('pca', PCA(copy=True, iterated_power='auto', n_components=None, random_state=None,\n",
       "  svd_solver='auto', tol=0.0, whiten=False)), ('svc', SVC(C=1.0, cache_size=200, class_weight=None, coef0=0.0,\n",
       "  decision_function_shape='ovr', degree=3, gamma='auto_deprecated',\n",
       "  kernel='rbf', max_iter=-1, probability=False, random_state=None,\n",
       "  shrinking=True, tol=0.001, verbose=False))]),\n",
       "       fit_params=None, iid=False, n_jobs=None,\n",
       "       param_grid={'pca__n_components': array([ 3,  4,  5,  6,  7,  8,  9, 10]), 'svc__C': array([1.e-02, 1.e-01, 1.e+00, 1.e+01, 1.e+02, 1.e+03]), 'svc__gamma': array([1.e-03, 1.e-02, 1.e-01, 1.e+00, 1.e+01])},\n",
       "       pre_dispatch='2*n_jobs', refit=True, return_train_score=True,\n",
       "       scoring=None, verbose=0)"
      ]
     },
     "execution_count": 352,
     "metadata": {
      "tags": []
     },
     "output_type": "execute_result"
    }
   ],
   "source": [
    "# TODO\n",
    "estimator = GridSearchCV(pipe, params, cv=5, return_train_score =True, iid=False)\n",
    "estimator.fit(X,y)"
   ]
  },
  {
   "cell_type": "markdown",
   "metadata": {
    "colab_type": "text",
    "id": "YO0ii-H6uEaj"
   },
   "source": [
    "Print the best test score and best parameters.  They are fields in `estimator`.  If you did it correctly, it should be a little higher than the logistic regression (about 0.97 to 0.98 accuracy)."
   ]
  },
  {
   "cell_type": "code",
   "execution_count": 353,
   "metadata": {
    "colab": {
     "base_uri": "https://localhost:8080/",
     "height": 53
    },
    "colab_type": "code",
    "id": "MbpwJQXOuEaq",
    "outputId": "00961d53-654c-42db-ae4e-0a59b89a6ecf"
   },
   "outputs": [
    {
     "name": "stdout",
     "output_type": "stream",
     "text": [
      "Best test score is 0.978078078078078\n",
      "Best parameters are {'pca__n_components': 5, 'svc__C': 1.0, 'svc__gamma': 0.1}\n"
     ]
    }
   ],
   "source": [
    "# TODO\n",
    "print('Best test score is',estimator.best_score_)\n",
    "print('Best parameters are',estimator.best_params_)"
   ]
  },
  {
   "cell_type": "markdown",
   "metadata": {
    "colab_type": "text",
    "id": "czyj-TWxuEa3"
   },
   "source": [
    "Finally, you can get the test score for all the parameter choices from \n",
    "\n",
    "    test_score = estimator.cv_results_['mean_test_score']\n",
    "    \n",
    "Use the `imshow` command to plot the mean test score over `gamma` and `C` for the value `n_components=5`."
   ]
  },
  {
   "cell_type": "code",
   "execution_count": 354,
   "metadata": {
    "colab": {
     "base_uri": "https://localhost:8080/",
     "height": 319
    },
    "colab_type": "code",
    "id": "cm5XksdWuEa4",
    "outputId": "b09778f4-df7a-474c-b750-9639fdcc02a4"
   },
   "outputs": [
    {
     "name": "stdout",
     "output_type": "stream",
     "text": [
      "(8, 6, 5)\n",
      "Index of n_components=5 is 2\n"
     ]
    },
    {
     "data": {
      "image/png": "[encoded data removed]",
      "text/plain": [
       "<Figure size 432x288 with 2 Axes>"
      ]
     },
     "metadata": {
      "tags": []
     },
     "output_type": "display_data"
    }
   ],
   "source": [
    "# TODO\n",
    "test_score = estimator.cv_results_['mean_test_score']\n",
    "scores = test_score.reshape(len(ncomp_test),len(c_test),len(gam_test))\n",
    "print(scores.shape)\n",
    "\n",
    "i = np.where(ncomp_test==5)[0][0]\n",
    "print('Index of n_components=5 is',i)\n",
    "\n",
    "plt.imshow(scores[i, :, :])\n",
    "plt.xlabel('Gamma')\n",
    "plt.ylabel('C')\n",
    "plt.colorbar()\n",
    "\n",
    "ax = plt.gca()\n",
    "n0 = len(c_test)\n",
    "n1 = len(gam_test)\n",
    "ax.set_xticks(np.arange(0,n1))\n",
    "ax.set_xticklabels(gam_test)\n",
    "ax.set_yticks(np.arange(0,n0))\n",
    "_ = ax.set_yticklabels(c_test)\n",
    "plt.show()"
   ]
  },
  {
   "cell_type": "code",
   "execution_count": 0,
   "metadata": {
    "colab": {},
    "colab_type": "code",
    "id": "tHsV79SRuEbG"
   },
   "outputs": [],
   "source": []
  },
  {
   "cell_type": "code",
   "execution_count": 0,
   "metadata": {
    "colab": {},
    "colab_type": "code",
    "id": "X8rI2RDHuEbS"
   },
   "outputs": [],
   "source": []
  }
 ],
 "metadata": {
  "colab": {
   "collapsed_sections": [],
   "name": "lab_wine_partial.ipynb",
   "provenance": [],
   "version": "0.3.2"
  },
  "kernelspec": {
   "display_name": "Python 3",
   "language": "python",
   "name": "python3"
  },
  "language_info": {
   "codemirror_mode": {
    "name": "ipython",
    "version": 3
   },
   "file_extension": ".py",
   "mimetype": "text/x-python",
   "name": "python",
   "nbconvert_exporter": "python",
   "pygments_lexer": "ipython3",
   "version": "3.6.5"
  }
 },
 "nbformat": 4,
 "nbformat_minor": 1
}
